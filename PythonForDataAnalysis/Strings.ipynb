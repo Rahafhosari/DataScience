{
 "cells": [
  {
   "cell_type": "code",
   "execution_count": 1,
   "metadata": {},
   "outputs": [
    {
     "name": "stdout",
     "output_type": "stream",
     "text": [
      "\"I think you're an encyclopedia salesman\"\n"
     ]
    }
   ],
   "source": [
    "salesman = '\"I think you\\'re an encyclopedia salesman\"'\n",
    "print(salesman)"
   ]
  },
  {
   "cell_type": "code",
   "execution_count": 8,
   "metadata": {},
   "outputs": [
    {
     "name": "stdout",
     "output_type": "stream",
     "text": [
      "Whether you think you can, or you think you can't--you're right.\n"
     ]
    }
   ],
   "source": [
    "# TODO: Fix this string!\n",
    "# ford_quote = 'Whether you think you can, or you think you can't--you're right.'\n",
    "fixed_ford_quote = \"Whether you think you can, or you think you can\\'t--you\\'re right.\"\n",
    "print(fixed_ford_quote)"
   ]
  }
 ],
 "metadata": {
  "kernelspec": {
   "display_name": ".venv",
   "language": "python",
   "name": "python3"
  },
  "language_info": {
   "codemirror_mode": {
    "name": "ipython",
    "version": 3
   },
   "file_extension": ".py",
   "mimetype": "text/x-python",
   "name": "python",
   "nbconvert_exporter": "python",
   "pygments_lexer": "ipython3",
   "version": "3.9.13"
  },
  "orig_nbformat": 4
 },
 "nbformat": 4,
 "nbformat_minor": 2
}
