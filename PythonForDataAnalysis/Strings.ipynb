{
 "cells": [
  {
   "cell_type": "code",
   "execution_count": 1,
   "metadata": {},
   "outputs": [
    {
     "name": "stdout",
     "output_type": "stream",
     "text": [
      "\"I think you're an encyclopedia salesman\"\n"
     ]
    }
   ],
   "source": [
    "salesman = '\"I think you\\'re an encyclopedia salesman\"'\n",
    "print(salesman)"
   ]
  },
  {
   "cell_type": "code",
   "execution_count": 2,
   "metadata": {},
   "outputs": [
    {
     "name": "stdout",
     "output_type": "stream",
     "text": [
      "Whether you think you can, or you think you can't--you're right.\n"
     ]
    }
   ],
   "source": [
    "# TODO: Fix this string!\n",
    "# ford_quote = 'Whether you think you can, or you think you can't--you're right.'\n",
    "fixed_ford_quote = \"Whether you think you can, or you think you can\\'t--you\\'re right.\"\n",
    "print(fixed_ford_quote)"
   ]
  },
  {
   "cell_type": "code",
   "execution_count": null,
   "metadata": {},
   "outputs": [],
   "source": [
    "username = \"Kinari\"\n",
    "timestamp = \"04:50\"\n",
    "url = \"http://petshop.com/pets/mammals/cats\"\n",
    "\n",
    "# TODO: write a log message using the variables above.\n",
    "# The message should have the same format as this one:\n",
    "# \"Yogesh accessed the site http://petshop.com/pets/reptiles/pythons at 16:20.\"\n",
    "\n",
    "message = \"\" #replace \"\" with your code"
   ]
  },
  {
   "cell_type": "code",
   "execution_count": null,
   "metadata": {},
   "outputs": [],
   "source": [
    "given_name = \"William\"\n",
    "middle_names = \"Bradley\"\n",
    "family_name = \"Pitt\"\n",
    "# Todo: calculate how long this name is\n",
    "name_length = None #replace `None` with your code\n",
    "\n",
    "# Now we check to make sure that the name fits within the driving license character limit\n",
    "# Uncomment the code below. You don't need to make changes to the code.\n",
    "\n",
    "# driving_license_character_limit = 28\n",
    "# print(name_length <= driving_license_character_limit)"
   ]
  },
  {
   "cell_type": "code",
   "execution_count": 13,
   "metadata": {},
   "outputs": [
    {
     "name": "stdout",
     "output_type": "stream",
     "text": [
      "529\n",
      "This week's total sales: 529\n"
     ]
    }
   ],
   "source": [
    "# Quiz: Total Sales\n",
    "# In this quiz, you’ll need to change the types of the input and output data in order to get the result you want.\n",
    "\n",
    "# Calculate the total sales for the week from the data provided. \n",
    "#Assign the result to a string variable with the form \"This week's total sales: xxx\", \n",
    "# where xxx will be the actual total of all the numbers. \n",
    "# You’ll need to change the type of the input data in order to calculate that total.\n",
    "\n",
    "# Note: While assigning \"This week's total sales: xxx\", you need to take care of the spaces to get the correct answer.\n",
    "# Don't forget to include a space after the colon \": \".\n",
    "\n",
    "mon_sales = \"121\"\n",
    "tues_sales = \"105\"\n",
    "wed_sales = \"110\"\n",
    "thurs_sales = \"98\"\n",
    "fri_sales = \"95\"\n",
    "\n",
    "#TODO: assign the total sales to a string with this format: This week's total sales: xxx\n",
    "# You will probably need to write some lines of code before the assigning statement.\n",
    "xxx = int(mon_sales) + int(tues_sales)+int(wed_sales)+int(thurs_sales)+int(fri_sales)\n",
    "print(xxx)\n",
    "result_string = \"This week\\'s total sales: \"+str(xxx)\n",
    "print(result_string)\n",
    "\n",
    "#Solution:\n",
    "# weekly_sales = int(mon_sales) + int(tues_sales) + int(wed_sales) + int(thurs_sales) + int(fri_sales)\n",
    "# weekly_sales = str(weekly_sales)  #convert the type back!!\n",
    "# result_string = \"This week's total sales: \" + weekly_sales"
   ]
  }
 ],
 "metadata": {
  "kernelspec": {
   "display_name": ".venv",
   "language": "python",
   "name": "python3"
  },
  "language_info": {
   "codemirror_mode": {
    "name": "ipython",
    "version": 3
   },
   "file_extension": ".py",
   "mimetype": "text/x-python",
   "name": "python",
   "nbconvert_exporter": "python",
   "pygments_lexer": "ipython3",
   "version": "3.11.8"
  },
  "orig_nbformat": 4
 },
 "nbformat": 4,
 "nbformat_minor": 2
}
