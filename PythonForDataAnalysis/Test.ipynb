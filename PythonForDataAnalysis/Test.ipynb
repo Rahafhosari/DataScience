{
 "cells": [
  {
   "cell_type": "code",
   "execution_count": 11,
   "metadata": {},
   "outputs": [
    {
     "name": "stdout",
     "output_type": "stream",
     "text": [
      "Rahaf\n",
      "What the HEll\n",
      "0.30000000000000004\n",
      "False\n"
     ]
    },
    {
     "ename": "ZeroDivisionError",
     "evalue": "division by zero",
     "output_type": "error",
     "traceback": [
      "\u001b[1;31m---------------------------------------------------------------------------\u001b[0m",
      "\u001b[1;31mZeroDivisionError\u001b[0m                         Traceback (most recent call last)",
      "Cell \u001b[1;32mIn[11], line 5\u001b[0m\n\u001b[0;32m      3\u001b[0m \u001b[39mprint\u001b[39m(\u001b[39m.1\u001b[39m \u001b[39m+\u001b[39m \u001b[39m.1\u001b[39m \u001b[39m+\u001b[39m \u001b[39m.1\u001b[39m)\n\u001b[0;32m      4\u001b[0m \u001b[39mprint\u001b[39m(\u001b[39m.1\u001b[39m \u001b[39m+\u001b[39m \u001b[39m.1\u001b[39m \u001b[39m+\u001b[39m \u001b[39m.1\u001b[39m \u001b[39m==\u001b[39m \u001b[39m.3\u001b[39m)\n\u001b[1;32m----> 5\u001b[0m \u001b[39mprint\u001b[39m(\u001b[39m5\u001b[39;49m\u001b[39m/\u001b[39;49m\u001b[39m0\u001b[39;49m)\n",
      "\u001b[1;31mZeroDivisionError\u001b[0m: division by zero"
     ]
    }
   ],
   "source": [
    "print(\"Rahaf\")\n",
    "print(\"What the HEll\")\n",
    "print(.1 + .1 + .1)\n",
    "print(.1 + .1 + .1 == .3)\n",
    "print(5/0)\n"
   ]
  },
  {
   "cell_type": "code",
   "execution_count": 15,
   "metadata": {},
   "outputs": [
    {
     "name": "stdout",
     "output_type": "stream",
     "text": [
      "San Fran Density 3729.423433524516\n",
      "Rio Density 13265.533401849949\n",
      "True\n"
     ]
    }
   ],
   "source": [
    "sf_population, sf_area = 864816, 231.89\n",
    "rio_population, rio_area = 6453682, 486.5\n",
    "\n",
    "san_francisco_pop_density = sf_population/sf_area\n",
    "rio_de_janeiro_pop_density = rio_population/rio_area\n",
    "print(\"San Fran Density\",san_francisco_pop_density)\n",
    "print(\"Rio Density\",rio_de_janeiro_pop_density)\n",
    "# Write code that gives a boolean value True if San Francisco is denser than Rio, and False otherwise\n",
    "comparision_result = san_francisco_pop_density<rio_de_janeiro_pop_density\n",
    "print(comparision_result)\n"
   ]
  }
 ],
 "metadata": {
  "kernelspec": {
   "display_name": "Python 3",
   "language": "python",
   "name": "python3"
  },
  "language_info": {
   "codemirror_mode": {
    "name": "ipython",
    "version": 3
   },
   "file_extension": ".py",
   "mimetype": "text/x-python",
   "name": "python",
   "nbconvert_exporter": "python",
   "pygments_lexer": "ipython3",
   "version": "3.9.13"
  },
  "orig_nbformat": 4
 },
 "nbformat": 4,
 "nbformat_minor": 2
}
